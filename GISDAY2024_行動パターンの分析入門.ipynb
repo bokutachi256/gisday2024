{
  "cells": [
    {
      "cell_type": "markdown",
      "metadata": {
        "id": "view-in-github",
        "colab_type": "text"
      },
      "source": [
        "<a href=\"https://colab.research.google.com/github/bokutachi256/gisday2024/blob/main/GISDAY2024_%E8%A1%8C%E5%8B%95%E3%83%8F%E3%82%9A%E3%82%BF%E3%83%BC%E3%83%B3%E3%81%AE%E5%88%86%E6%9E%90%E5%85%A5%E9%96%80.ipynb\" target=\"_parent\"><img src=\"https://colab.research.google.com/assets/colab-badge.svg\" alt=\"Open In Colab\"/></a>"
      ]
    },
    {
      "cell_type": "markdown",
      "metadata": {
        "id": "nZIXQnRG4q1B"
      },
      "source": [
        "# scikit-mobilityを用いた行動パターンの分析入門"
      ]
    },
    {
      "cell_type": "markdown",
      "metadata": {
        "id": "x6Q2GHzj4q1B"
      },
      "source": [
        "* 東京都立大学 都市環境学部 地理環境学科 中山大地\n",
        "* GIS Day in 東京 2024 Eコース\n",
        "* 2024年12月14日 東京都立大学 南大沢キャンパス\n",
        "* このテキストのURL [https://github.com/bokutachi256/gisday2024](https://github.com/bokutachi256/gisday2024)\n",
        "* Google ColaboratoryのURL [https://colab.research.google.com/](https://colab.research.google.com/)"
      ]
    },
    {
      "cell_type": "markdown",
      "metadata": {
        "id": "3qDA0WBQ4q1B"
      },
      "source": [
        "## 使い方"
      ]
    },
    {
      "cell_type": "markdown",
      "metadata": {
        "id": "i85Cyrc84q1B"
      },
      "source": [
        "### 動作環境について"
      ]
    },
    {
      "cell_type": "markdown",
      "metadata": {
        "id": "rimmvf-W4q1B"
      },
      "source": [
        "1. Googleドライブに`gisday2024`フォルダを作成する（フォルダ名は「すべて小文字」にすること）．\n",
        "2. 共有フォルダ（[https://drive.google.com/drive/folders/1OKj-JS8O2NR2qPlvLV4oiTNdrMEV8Jpn?usp=sharing](https://drive.google.com/drive/folders/1OKj-JS8O2NR2qPlvLV4oiTNdrMEV8Jpn?usp=sharing)）から以下のデータをダウンロードする．\n",
        "   * `gps_logdata.zip`: GPX型式のGPSログデータを圧縮したもの\n",
        "   * `r2ka.fgb`: FlatGeoBuf型式の熊本県と宮崎県の小地域ポリゴン（e-Statより入手）\n",
        "   * `gisday2024_agent_vars.fgb`: FlatGeoBuf型式のマルチエージェントシミュレーションの計算結果（熊本県阿蘇市内牧地区）\n",
        "3. Google Driveに作成した`gisday2024`フォルダに上記3点のファイルをアップロードする．\n"
      ]
    },
    {
      "cell_type": "markdown",
      "metadata": {
        "id": "8rRIfr8Z4q1B"
      },
      "source": [
        "#### 使用しているライブラリ"
      ]
    },
    {
      "cell_type": "markdown",
      "metadata": {
        "id": "95XWJZYm4q1C"
      },
      "source": [
        "使用している主なライブラリの一覧．\n",
        "\n",
        "* gpxpy: GPSのログデータ（GPX型式）を扱うためのライブラリ\n",
        "* scikit-mobility: モビリティデータを扱うライブラリ\n",
        "* movingpandas: 移動データを扱うライブラリ\n",
        "* folium: 地図（WEBマップ）を扱うためのライブラリ\n",
        "* datetime: 時刻を扱うためのライブラリ\n",
        "* zoneinfo: タイムゾーンを扱うためのライブラリ\n",
        "* pandas: データフレームを扱うためのライブラリ\n",
        "* geopandas: 地理情報を扱うためのライブラリ\n",
        "* pyproj: PROJ（地図投影と座標系を扱うためのライブラリ）へのPythonインターフェイス\n",
        "* glob: ファイルパス名解決のためのライブラリ\n",
        "* shapely: ジオメトリを扱うためのライブラリ\n",
        "* numpy: 行列を扱うためのライブラリ"
      ]
    },
    {
      "cell_type": "markdown",
      "metadata": {
        "id": "mhEa3awa4q1C"
      },
      "source": [
        "## 実行の準備"
      ]
    },
    {
      "cell_type": "markdown",
      "metadata": {
        "id": "W5Ian_rk4q1C"
      },
      "source": [
        "### ライブラリのインストールとインポート"
      ]
    },
    {
      "cell_type": "markdown",
      "metadata": {
        "id": "6BF7TX1yifl1"
      },
      "source": [
        "#### Google Colabへのライブラリインストール"
      ]
    },
    {
      "cell_type": "markdown",
      "metadata": {
        "id": "369LC8S727si"
      },
      "source": [
        "Google Colaboratoryは基本的なライブラリはインストール済みですが，標準ではインストールされていないライブラリをインストールする必要があります．\n",
        "インストールするとランタイムの再起動を求められる事があるので，指示に従ってランタイムを再起動してください．\n",
        "再起動後は「ライブラリのインポート」以降を実行してください．"
      ]
    },
    {
      "cell_type": "code",
      "execution_count": null,
      "metadata": {
        "id": "Wz0NKjCC4q1C"
      },
      "outputs": [],
      "source": [
        "import sys\n",
        "\n",
        "# Google Colaboratoryを使用している場合は以下の必須ライブラリをインストールする\n",
        "# gpxpy: GPXフォーマットを扱うライブラリ\n",
        "# scikit-mobility: モビリティデータを扱うライブラリ\n",
        "# movingpandas: 移動データを扱うライブラリ\n",
        "# folium: 地図を表示するライブラリ\n",
        "\n",
        "if 'google.colab' in sys.modules:\n",
        "  %pip install gpxpy\n",
        "  %pip install scikit-mobility\n",
        "  %pip install movingpandas\n",
        "  %pip install folium\n",
        "  %pip install mapclassify\n",
        "  %pip install -U geopandas\n",
        "  %pip install stonesoup\n"
      ]
    },
    {
      "cell_type": "markdown",
      "metadata": {
        "id": "WjicRc9vifl2"
      },
      "source": [
        "#### ライブラリのインポート"
      ]
    },
    {
      "cell_type": "code",
      "execution_count": null,
      "metadata": {
        "id": "Tf9ZCsUYifl2"
      },
      "outputs": [],
      "source": [
        "# 必要なライブラリをインポート\n",
        "from datetime import datetime, timedelta\n",
        "from zoneinfo import ZoneInfo\n",
        "\n",
        "import sys\n",
        "import gpxpy\n",
        "import gpxpy.gpx\n",
        "import folium\n",
        "import pandas as pd\n",
        "import geopandas as gpd\n",
        "import movingpandas as mpd\n",
        "import skmob\n",
        "from skmob import TrajDataFrame\n",
        "from skmob.preprocessing import detection, clustering, compression\n",
        "from skmob.preprocessing import filtering\n",
        "from skmob.tessellation import tilers\n",
        "\n",
        "from shapely.geometry import Point, LineString\n",
        "from pyproj import CRS\n",
        "import glob\n",
        "import zipfile\n",
        "\n",
        "import numpy as np"
      ]
    },
    {
      "cell_type": "markdown",
      "metadata": {
        "id": "lMKpovzZ4q1D"
      },
      "source": [
        "### データフォルダのマウント"
      ]
    },
    {
      "cell_type": "markdown",
      "metadata": {
        "id": "S1oYTu7q27sj"
      },
      "source": [
        "Google ColaboratoryからGoogle Driveにアップロードしたデータにアクセスするため，\n",
        "データフォルダのマウントを行います．\n",
        "途中でGoogle ColaboratoryからGoogle Driveへのアクセス権付与を求められますので，すべての権限を与えてください．\n"
      ]
    },
    {
      "cell_type": "code",
      "execution_count": null,
      "metadata": {
        "id": "jr1bEK2U4q1D"
      },
      "outputs": [],
      "source": [
        "if 'google.colab' in sys.modules:\n",
        "  # google.coalb: GoogleDrive内のファイルにアクセスするために必要\n",
        "  from google.colab import drive\n",
        "  drive.mount('/content/drive')\n",
        "  # GoogleDrive内の\"マイドライブ/gisday2024/\"フォルダにアクセスできるような設定を行う．\n",
        "  # フォルダ名の最後に`/`を必ず追加すること．\n",
        "  base_dir = \"/content/drive/MyDrive/gisday2024/\"\n",
        "else:\n",
        "  base_dir = \"./data/\"\n",
        "\n",
        "%matplotlib inline"
      ]
    },
    {
      "cell_type": "markdown",
      "metadata": {
        "id": "bmfv0DMt4q1D"
      },
      "source": [
        "# GPXデータの分析"
      ]
    },
    {
      "cell_type": "markdown",
      "metadata": {
        "id": "Jq5fBXN-27sk"
      },
      "source": [
        "熊本県阿蘇地方近辺の31日分のGPSログデータ（学外実習時に取得したものです）を用いてデータの分析を行います．\n",
        "ここではGPSログデータから立ち寄り地（採水ポイントや現地調査のポイント）を抽出し，\n",
        "立ち寄り地間のフローを作成します．\n",
        "\n",
        "手順は以下になります．\n",
        "\n",
        "1. GPXデータの読み込みとTrajDataFrameへの変換\n",
        "2. フィルタを用いたTrajDataFrameのクリーニングおよび縮約\n",
        "3. 立ち寄り地点の抽出\n",
        "4. 立ち寄り地点間のOD作成\n",
        "5. ODからフローの作成"
      ]
    },
    {
      "cell_type": "markdown",
      "metadata": {
        "id": "Y0lLEOlL4q1D"
      },
      "source": [
        "## GPSからTrajDataFrameを作る"
      ]
    },
    {
      "cell_type": "markdown",
      "metadata": {
        "id": "lzWeO_a_4q1D"
      },
      "source": [
        "### GPXデータの読み込み"
      ]
    },
    {
      "cell_type": "markdown",
      "metadata": {
        "id": "tUOj0qlr27sk"
      },
      "source": [
        "zip型式に圧縮されているGPXファイルを読み込み，DataFrame型式に変換した後にTrajDataFrameを作成します．\n",
        "TrajDataFrameはscikit-mobikityの基本的なデータ形式で，\n",
        "TrajDataFrameに対して様々なフィルタをかけたりデータの縮約をします．\n",
        "また，立ち寄り地の検出もTrajDataFrameに対して行います．"
      ]
    },
    {
      "cell_type": "markdown",
      "metadata": {
        "id": "AUrHK1ea27sk"
      },
      "source": [
        "GPXデータの読み込みはgpxpyライブラリを使用します．\n",
        "GPXのトラックを構成するセグメントからポイントを抽出し，緯度経度の座標や時刻を取得します．\n",
        "取得した座標などの情報からpandasのDataFrameを作成し，それをTrajDataFrameに変換します．"
      ]
    },
    {
      "cell_type": "code",
      "execution_count": null,
      "metadata": {
        "id": "FELULoSo4q1D"
      },
      "outputs": [],
      "source": [
        "# タイムゾーンの設定\n",
        "dt_tz = ZoneInfo('Asia/Tokyo')\n",
        "# 日時文字列形式\n",
        "dt_fmt = '%Y-%m-%d %H:%M:%S'\n",
        "# 配列の初期化\n",
        "datetime = []\n",
        "lat = []\n",
        "lon = []\n",
        "alt = []\n",
        "id = []\n",
        "uid = 0\n",
        "df = pd.DataFrame()\n",
        "\n",
        "# ZIP圧縮されたGPXファイルの読み込み\n",
        "inzipfile =  'gps_logdata.zip'\n",
        "with zipfile.ZipFile(base_dir + inzipfile) as zf:\n",
        "    infiles = zf.namelist()\n",
        "    for infile in infiles:\n",
        "        gpx_file = zf.open(infile, 'r')\n",
        "        # GPXファイルのパース\n",
        "        gpx = gpxpy.parse(gpx_file)\n",
        "        # GPXデータの読み込み\n",
        "        for track in gpx.tracks:\n",
        "            for segment in track.segments:\n",
        "                # ポイントデータリストの読み込み\n",
        "                points = segment.points\n",
        "                # ポイントデータの読み込み\n",
        "                for i in range(len(points)):\n",
        "                    # データ抽出\n",
        "                    datetime.append(points[i].time.astimezone(dt_tz).strftime(dt_fmt))\n",
        "                    lat.append(points[i].latitude)\n",
        "                    lon.append(points[i].longitude)\n",
        "                    alt.append(points[i].elevation)\n",
        "                    id.append(uid)\n",
        "        uid += 1\n",
        "\n",
        "df['lat'] = lat\n",
        "df['lon'] = lon\n",
        "df['alt'] = alt\n",
        "df['datetime'] = datetime\n",
        "df['id'] = id\n"
      ]
    },
    {
      "cell_type": "markdown",
      "metadata": {
        "id": "TeChIUSo4q1D"
      },
      "source": [
        "### TrajDataFrameの作成"
      ]
    },
    {
      "cell_type": "markdown",
      "metadata": {
        "id": "4U5RCMhq27sk"
      },
      "source": [
        "GPXデータから作成したDataFrameをTrajDataFrameに変換します．\n",
        "TrajDataFrameには個人を識別する`user_id`がありますが，\n",
        "今回は31日分のGPSデータのそれぞれに異なる`user_id`を付与しています．"
      ]
    },
    {
      "cell_type": "code",
      "execution_count": null,
      "metadata": {
        "id": "VSfqqogK4q1D"
      },
      "outputs": [],
      "source": [
        "# gpxをTrajDataFrameに変換\n",
        "tdf = skmob.TrajDataFrame(df, latitude='lat', longitude = 'lon', datetime='datetime',\n",
        "                          user_id='id', crs={'init': 'epsg:4326'})"
      ]
    },
    {
      "cell_type": "markdown",
      "metadata": {
        "id": "jadULKGG4q1D"
      },
      "source": [
        "GPXデータからTrajDataFrameができましたので，データ数の確認をしてみます．"
      ]
    },
    {
      "cell_type": "code",
      "execution_count": null,
      "metadata": {
        "id": "bUGQl4Op4q1D"
      },
      "outputs": [],
      "source": [
        "print(f'オリジナル: {len(tdf)}')"
      ]
    },
    {
      "cell_type": "markdown",
      "metadata": {
        "id": "PouUx3s827sk"
      },
      "source": [
        "全部で128,802個のポイントがありました．"
      ]
    },
    {
      "cell_type": "markdown",
      "metadata": {
        "id": "fSNkt4TR4q1D"
      },
      "source": [
        "## TrajDataFrameのクリーニングと各種前処理"
      ]
    },
    {
      "cell_type": "markdown",
      "metadata": {
        "id": "8Xd23tfu27sl"
      },
      "source": [
        "GPSの位置情報にはノイズが含まれていることがあるため，それらを取り除く必要があります．\n",
        "そのためにデータのクリーニングを行います．\n",
        "まずは確認のためTrajDataFrameをプロットしてみます．\n",
        "\n",
        "TrajDataFrameのプロットは`plot_trajectory`メソッドを使います．"
      ]
    },
    {
      "cell_type": "code",
      "execution_count": null,
      "metadata": {
        "id": "IC0X1MB_4q1D"
      },
      "outputs": [],
      "source": [
        "# TrajDataFrameのプロット\n",
        "tdf.plot_trajectory(zoom=12, weight=3, opacity=0.9, max_users=100, max_points=None,\n",
        "                    start_end_markers=True)\n"
      ]
    },
    {
      "cell_type": "markdown",
      "metadata": {
        "id": "r1iVuIO027sl"
      },
      "source": [
        "各Trajectoryの始点と終点にマーカーが表示されています．クリックすると日付時刻と座標がポップアップします．"
      ]
    },
    {
      "cell_type": "markdown",
      "metadata": {
        "id": "sDGHU3h64q1E"
      },
      "source": [
        "### 速度の計算"
      ]
    },
    {
      "cell_type": "markdown",
      "metadata": {
        "id": "zYk2El6H4q1E"
      },
      "source": [
        "GPSデータのノイズとして異常に速い速度が記録される事があります．\n",
        "確認のため経路ごとの速度を求めて地図表示してみましょう．\n",
        "\n",
        "scikit-mobilityには経路の速度を計算する方法がないため，\n",
        "TrajDataFrameをMovingPandsのTrajectoryCollectionに変換して速度を求めます．\n",
        "まずはTrajDatFrameをGeoPandasのGeoDataFrameに変換し，\n",
        "そこからTrajctoryCollectionに変換します．\n",
        "その後，TrajectoryCollectionに対して速度を求めます．"
      ]
    },
    {
      "cell_type": "code",
      "execution_count": null,
      "metadata": {
        "id": "HpMws8r54q1E"
      },
      "outputs": [],
      "source": [
        "# TrajDataFrameをMovingPandasのTrajectoryCollectionに変換する\n",
        "\n",
        "# TrajDataFrameをGeoDataFrameに変換する\n",
        "gdf = tdf.to_geodataframe()\n",
        "# GeoDataFrameをTrajectoryCollectionに変換する\n",
        "collection = mpd.TrajectoryCollection(gdf, 'uid', t='datetime')\n",
        "\n",
        "# TrajectoryCollectionに対して速度を計算する\n",
        "collection.add_speed(overwrite=True, units=(\"km\", \"h\"))\n"
      ]
    },
    {
      "cell_type": "markdown",
      "metadata": {
        "id": "lsEOr-x44q1E"
      },
      "source": [
        "TrajectoryCollectionに対して`add_speed`メソッドを使って速度を求めます．\n",
        "求まった速度は`speed`に格納されます．\n",
        "\n",
        "速度が求まったら表示してみましょう．\n",
        "速度を求めたTrajectoryCollectionはGeoPandasのGeoDataFrameオブジェクトなので，\n",
        "`plot`メソッドや`explore`メソッドが使えます．\n",
        "\n",
        "`plot`メソッドを使って`speed`で色分けして表示します．"
      ]
    },
    {
      "cell_type": "code",
      "execution_count": null,
      "metadata": {
        "id": "Ill6DOd34q1E"
      },
      "outputs": [],
      "source": [
        "# すべてのTrajectoryのspeedをプロットする\n",
        "# やけにスピードが速いものがある\n",
        "collection.plot(column=\"speed\", cmap='rainbow', legend=True)"
      ]
    },
    {
      "cell_type": "markdown",
      "metadata": {
        "id": "3ji_hk1X27sl"
      },
      "source": [
        "どうやら時速800kmを越えるセグメントがあるようです．\n",
        "これは明らかにノイズなのでフィルタリングする必要があります．"
      ]
    },
    {
      "cell_type": "markdown",
      "metadata": {
        "id": "S3X9Duk14q1E"
      },
      "source": [
        "### データのクリーニング\n"
      ]
    },
    {
      "cell_type": "markdown",
      "metadata": {
        "id": "RDWGdsUf27sm"
      },
      "source": [
        "主なフィルタリングには以下の2種類があります．\n",
        "* 速度によるフィルタリング\n",
        "* 短小ループの削除\n",
        "\n",
        "またデータを縮約するための経路圧縮も必要になります．"
      ]
    },
    {
      "cell_type": "markdown",
      "metadata": {
        "id": "4wpo-4w74q1F"
      },
      "source": [
        "まずは速度フィルタリングを行います．\n",
        "ここでは時速100km以上のセグメントを削除します．\n",
        "速度フィルタリングは`filtering.filter`を使います．\n",
        "\n",
        "対象となるTrajDataFrameは`tdf`ですので，`filtering.filter`の第一引数に`tdf`を指定します．\n",
        "`max_speed_km`で指定する値以上のセグメントを削除します．\n",
        "フィルタリング後のデータは`stdf`とします．"
      ]
    },
    {
      "cell_type": "code",
      "execution_count": null,
      "metadata": {
        "id": "K0byztXS4q1F"
      },
      "outputs": [],
      "source": [
        "#速度によるフィルタリング\n",
        "# TrajDataFrameのうち，速度が100km/hを超えるデータを除外\n",
        "stdf = filtering.filter(tdf, max_speed_kmh=100)\n"
      ]
    },
    {
      "cell_type": "markdown",
      "metadata": {
        "id": "99WrOAft4q1F"
      },
      "source": [
        "速度フィルタリングが終わったらデータ数の確認をしてみましょう．"
      ]
    },
    {
      "cell_type": "code",
      "execution_count": null,
      "metadata": {
        "id": "pZNWiTD34q1F"
      },
      "outputs": [],
      "source": [
        "print(f'オリジナル: {len(tdf)}')\n",
        "print(f'速度フィルタリング後: {len(stdf)}')"
      ]
    },
    {
      "cell_type": "markdown",
      "metadata": {
        "id": "s-SP2lcY27sm"
      },
      "source": [
        "オリジナルデータに比べてフィルタリング後のデータは小さくなっていることがわかります．\n"
      ]
    },
    {
      "cell_type": "markdown",
      "metadata": {
        "id": "qCZ574B-4q1F"
      },
      "source": [
        "次に速度フィルタを通したTrajDataFrameを表示して確認してみます．\n",
        "`plot_trajectory`メソッドを使います．"
      ]
    },
    {
      "cell_type": "code",
      "execution_count": null,
      "metadata": {
        "id": "cA7xz2C-4q1I"
      },
      "outputs": [],
      "source": [
        "stdf.plot_trajectory(zoom=12, weight=3, opacity=0.9, max_users=100, max_points=None)\n"
      ]
    },
    {
      "cell_type": "markdown",
      "metadata": {
        "id": "0oQfHvmF4q1I"
      },
      "source": [
        "#### 速度をフィルタリングしたTrajectoryDataFrameに対して速度を計算する"
      ]
    },
    {
      "cell_type": "markdown",
      "metadata": {
        "id": "uFp-IJqo4q1I"
      },
      "source": [
        "プロットではフィルタリングの効果がわからないので，\n",
        "速度フィルタリング済みのデータに対して再度速度を計算し，\n",
        "それをプロットして確認します．\n",
        "\n",
        "速度計算のためには一旦MovingPandasのTrajectoryCollectionに変換する必要があります．\n"
      ]
    },
    {
      "cell_type": "code",
      "execution_count": null,
      "metadata": {
        "id": "MnlMkERy4q1I"
      },
      "outputs": [],
      "source": [
        "# TrajDataFrameをGeoDataFrame経由でMovingPandasのTrajectoryCollectionに変換する\n",
        "gdf = stdf.to_geodataframe()\n",
        "collection = mpd.TrajectoryCollection(gdf, 'uid', t='datetime')\n",
        "# TrajectoryCollectionの速度を計算する\n",
        "collection.add_speed(overwrite=True, units=(\"km\", \"h\"))\n",
        "# TrajectoryCollectionを日付でソートする\n",
        "collection.trajectories.sort(key=lambda x: x.get_start_time())"
      ]
    },
    {
      "cell_type": "markdown",
      "metadata": {
        "id": "anTjPezD27sm"
      },
      "source": [
        "速度のプロットを表示してみましょう．"
      ]
    },
    {
      "cell_type": "code",
      "execution_count": null,
      "metadata": {
        "id": "4lKOEOZK4q1I"
      },
      "outputs": [],
      "source": [
        "# すべてのTrajectoryのspeedをプロットする\n",
        "collection.plot(column=\"speed\", cmap='rainbow', legend=True)"
      ]
    },
    {
      "cell_type": "markdown",
      "metadata": {
        "id": "ZtIrVfzd27sn"
      },
      "source": [
        "最高速度が時速100kmになっているので，速度フィルタリングはうまくいっているようです．\n",
        "\n",
        "次に`explore`メソッドを使ってインタラクティブマップに速度を日付ごとに表示してみます．"
      ]
    },
    {
      "cell_type": "markdown",
      "metadata": {
        "id": "87sxcHpX4q1I"
      },
      "source": [
        "#### インタラクティブマップに経路の速度を表示する"
      ]
    },
    {
      "cell_type": "code",
      "execution_count": null,
      "metadata": {
        "id": "ejYd8i2U4q1I"
      },
      "outputs": [],
      "source": [
        "mapcenter = [32.92, 131.1]\n",
        "\n",
        "m = folium.Map(\n",
        "    location=mapcenter,\n",
        "    zoom_start=11\n",
        ")\n",
        "\n",
        "# 地理院タイル（淡色地図）を追加\n",
        "# '全国最新写真（シームレス）'も面白いかも\n",
        "# https://cyberjapandata.gsi.go.jp/xyz/seamlessphoto/{z}/{x}/{y}.jpg\n",
        "tile_layer = folium.TileLayer(\n",
        "    tiles='https://cyberjapandata.gsi.go.jp/xyz/pale/{z}/{x}/{y}.png',\n",
        "    attr='&copy; <a href=\"https://maps.gsi.go.jp/development/ichiran.html\">\\\n",
        "        地理院タイル</a>',\n",
        "    name='地理院地図'\n",
        ")\n",
        "tile_layer.add_to(m)\n",
        "\n",
        "# カスタムCSSを追加してタイルレイヤーをモノクロ化\n",
        "m.get_root().html.add_child(folium.Element(\"\"\"\n",
        "<style>\n",
        "    .leaflet-tile {\n",
        "        filter: grayscale(100%);\n",
        "    }\n",
        "</style>\n",
        "\"\"\"))\n",
        "\n",
        "# レイヤーコントロールに日付を表示するための日付フォーマット\n",
        "dt_fmt = '%Y-%m-%d'\n",
        "# TrajectoryCollectionの各Trajectoryをプロット\n",
        "for trajectory in collection.trajectories:\n",
        "    # Trajectoryの開始時刻を取得\n",
        "    start_time = trajectory.get_start_time().strftime(dt_fmt)\n",
        "    # Trajectoryを表示\n",
        "    trajectory.explore(\n",
        "        m=m,\n",
        "        column=\"speed\",\n",
        "        cmap='rainbow',\n",
        "        vmin=0, vmax=100,\n",
        "        legend=False,\n",
        "        style_kwds={'weight': 5, 'opacity': 0.7},\n",
        "        name=f'{start_time}'\n",
        "    )\n",
        "\n",
        "# レイヤーコントロールを追加\n",
        "folium.LayerControl().add_to(m)\n",
        "display(m)"
      ]
    },
    {
      "cell_type": "markdown",
      "metadata": {
        "id": "Z3FroYqL27sn"
      },
      "source": [
        "`explore`メソッドを使っているので，右上のレイヤーコントロールメニューで表示のオンオフを変えることができます．\n",
        "また，マウスオーバーすることによりセグメントの情報をポップアップすることもできます．\n",
        "\n",
        "南側の速度が速いセグメントは，部分開通している九州中央自動車道を通行しているときのものです．"
      ]
    },
    {
      "cell_type": "markdown",
      "metadata": {
        "id": "t-2rM3PN4q1I"
      },
      "source": [
        "#### ループの削除"
      ]
    },
    {
      "cell_type": "markdown",
      "metadata": {
        "id": "bvLnSgBZ4q1I"
      },
      "source": [
        "GPSデータのノイズには短小ループが作成される事があります．\n",
        "短小ループの削除は速度によるフィルタリングと同時に行います．\n",
        "これも実行してみます．"
      ]
    },
    {
      "cell_type": "code",
      "execution_count": null,
      "metadata": {
        "id": "tAqYPT6L4q1J"
      },
      "outputs": [],
      "source": [
        "lstdf = filtering.filter(tdf, max_speed_kmh=100, include_loops=True)"
      ]
    },
    {
      "cell_type": "markdown",
      "metadata": {
        "id": "PLa_gqp04q1J"
      },
      "source": [
        "これでフィルタリングによるデータクリーニングは完了です．\n",
        "クリーニング前後のデータ数を見て，効果を見てみましょう．"
      ]
    },
    {
      "cell_type": "code",
      "execution_count": null,
      "metadata": {
        "id": "ngLPPjgL4q1J"
      },
      "outputs": [],
      "source": [
        "print(f'オリジナル: {len(tdf)}')\n",
        "print(f'速度フィルタリング後: {len(stdf)}')\n",
        "print(f'ループを含む速度フィルタリング後: {len(lstdf)}')\n"
      ]
    },
    {
      "cell_type": "markdown",
      "metadata": {
        "id": "-MoUUNnX27sn"
      },
      "source": [
        "データ数が少なくなっているのでクリーニングはできていますが，思ったよりもデータは減っていないようです．\n",
        "マップ表示での確認もしてみます．"
      ]
    },
    {
      "cell_type": "code",
      "execution_count": null,
      "metadata": {
        "id": "raw8TYfC4q1J"
      },
      "outputs": [],
      "source": [
        "lstdf.plot_trajectory(zoom=12, weight=3, opacity=0.9, max_users=100, max_points=None)\n"
      ]
    },
    {
      "cell_type": "markdown",
      "metadata": {
        "id": "fOIviUAf4q1J"
      },
      "source": [
        "#### データの圧縮"
      ]
    },
    {
      "cell_type": "markdown",
      "metadata": {
        "id": "tZrutnUC4q1J"
      },
      "source": [
        "このままではデータ量が多くて扱いが不便なので，`compression.comress`を使って経路データの圧縮を行います．\n",
        "`spatial_radius_km`パラメーターで削減する範囲をしています．ここでは50mとしました．"
      ]
    },
    {
      "cell_type": "code",
      "execution_count": null,
      "metadata": {
        "id": "TPCUK9LT4q1J"
      },
      "outputs": [],
      "source": [
        "clstdf = compression.compress(lstdf, spatial_radius_km=0.05)"
      ]
    },
    {
      "cell_type": "markdown",
      "metadata": {
        "id": "ih9w9u2u4q1J"
      },
      "source": [
        "経路圧縮の効果を見てみましょう．"
      ]
    },
    {
      "cell_type": "code",
      "execution_count": null,
      "metadata": {
        "id": "_nSSd2id4q1J"
      },
      "outputs": [],
      "source": [
        "print(f'オリジナル: {len(tdf)}')\n",
        "print(f'速度フィルタリング後: {len(stdf)}')\n",
        "print(f'ループを含む速度フィルタリング後: {len(lstdf)}')\n",
        "print(f'圧縮後: {len(clstdf)}')"
      ]
    },
    {
      "cell_type": "markdown",
      "metadata": {
        "id": "XEzavq3n27so"
      },
      "source": [
        "50m範囲での経路圧縮をすることにより，元データの3分の1ほどのサイズになりました．\n",
        "\n",
        "オリジナルデータと圧縮データを地図表示して効果を見てみます．\n",
        "すべてのTrajetoryを表示するのは難しいので，最初のTrajectory（`uid`が0のTrajectory ）のみを表示します．\n",
        "\n",
        "オリジナルデータは赤で，フィルタリングして圧縮したデータは青で表示されます．"
      ]
    },
    {
      "cell_type": "code",
      "execution_count": null,
      "metadata": {
        "id": "xP9iqVhr4q1J"
      },
      "outputs": [],
      "source": [
        "# オリジナルデータを赤で描画\n",
        "map_f = clstdf[clstdf['uid']==10].plot_trajectory(zoom=12, weight=3, opacity=0.9,\n",
        "  max_users=100, max_points=None, hex_color='#FF0000')\n",
        "# 圧縮後のデータを青で描画\n",
        "tdf[tdf['uid']==10].plot_trajectory(zoom=12, weight=3, opacity=0.5,\n",
        "  max_users=100, max_points=None, hex_color='#0000FF', map_f=map_f)"
      ]
    },
    {
      "cell_type": "markdown",
      "metadata": {
        "id": "cP1cKsEb4q1J"
      },
      "source": [
        "#### データの処理過程の確認"
      ]
    },
    {
      "cell_type": "markdown",
      "metadata": {
        "id": "FQi7uy-U4q1J"
      },
      "source": [
        "オリジナルのTrajectoryに対して様々なクリーニングと圧縮をしましたが，\n",
        "あるTrajectoryがどのような処理を施されたのか確認したいことがあります．\n",
        "\n",
        "TrajDataFrameの`parameters`メソッドで適用された処理を確認することができます．"
      ]
    },
    {
      "cell_type": "code",
      "execution_count": null,
      "metadata": {
        "id": "0BTVFtlt4q1J"
      },
      "outputs": [],
      "source": [
        "clstdf.parameters"
      ]
    },
    {
      "cell_type": "markdown",
      "metadata": {
        "id": "X5bLkv2j27so"
      },
      "source": [
        "`clstdf`は時速100kmの速度フィルタリング，ループの削除，0.05km範囲の圧縮がなされたデータであることがわかります．"
      ]
    },
    {
      "cell_type": "markdown",
      "metadata": {
        "id": "zR2DnNWA4q1J"
      },
      "source": [
        "#### クリーニングしたデータに対して速度を求める"
      ]
    },
    {
      "cell_type": "markdown",
      "metadata": {
        "id": "fTPkxNxu27so"
      },
      "source": [
        "クリーニングしたデータの速度を求め，インタラクティブマップに表示してみましょう．\n",
        "このデータが最終的に採用されるデータになります．\n",
        "\n",
        "まずは速度を求めます．"
      ]
    },
    {
      "cell_type": "code",
      "execution_count": null,
      "metadata": {
        "id": "Dw_iZJ774q1K"
      },
      "outputs": [],
      "source": [
        "# clstdfをTrajectoryCollectionに変換する\n",
        "collection = mpd.TrajectoryCollection(clstdf.to_geodataframe(), 'uid', t='datetime')\n",
        "# TrajectoryCollectionの速度を計算する\n",
        "collection.add_speed(overwrite=True, units=(\"km\", \"h\"))\n",
        "# TrajectoryCollectionを日付でソートする\n",
        "collection.trajectories.sort(key=lambda x: x.get_start_time())\n"
      ]
    },
    {
      "cell_type": "markdown",
      "metadata": {
        "id": "lSV5ULPO4q1K"
      },
      "source": [
        "次にインタラクティブマップに表示します．背景地図として空中写真も選べるようにしました．"
      ]
    },
    {
      "cell_type": "code",
      "execution_count": null,
      "metadata": {
        "id": "ExrmqFk24q1K"
      },
      "outputs": [],
      "source": [
        "mapcenter = [32.92, 131.1]\n",
        "\n",
        "m = folium.Map(\n",
        "    location=mapcenter,\n",
        "    # tiles='https://cyberjapandata.gsi.go.jp/xyz/pale/{z}/{x}/{y}.png',\n",
        "    # attr='&copy; <a href=\"https://maps.gsi.go.jp/development/ichiran.html\">\\\n",
        "    #     # 地理院タイル</a>',\n",
        "    # name='淡色地図',\n",
        "    zoom_start=11\n",
        ")\n",
        "\n",
        "# 地理院タイル（淡色地図）を追加\n",
        "# '全国最新写真（シームレス）'も面白いかも\n",
        "# https://cyberjapandata.gsi.go.jp/xyz/seamlessphoto/{z}/{x}/{y}.jpg\n",
        "tile_layer = folium.TileLayer(\n",
        "    tiles='https://cyberjapandata.gsi.go.jp/xyz/pale/{z}/{x}/{y}.png',\n",
        "    attr='&copy; <a href=\"https://maps.gsi.go.jp/development/ichiran.html\">\\\n",
        "        地理院タイル</a>',\n",
        "    name='地理院地図'\n",
        ")\n",
        "tile_layer.add_to(m)\n",
        "\n",
        "# 地理院タイル（淡色地図）を追加\n",
        "# '全国最新写真（シームレス）'も面白いかも\n",
        "# https://cyberjapandata.gsi.go.jp/xyz/seamlessphoto/{z}/{x}/{y}.jpg\n",
        "tile_layer = folium.TileLayer(\n",
        "    tiles='https://cyberjapandata.gsi.go.jp/xyz/seamlessphoto/{z}/{x}/{y}.jpg',\n",
        "    attr='&copy; <a href=\"https://maps.gsi.go.jp/development/ichiran.html\">\\\n",
        "        地理院タイル</a>',\n",
        "    name='全国最新写真（シームレス）'\n",
        ")\n",
        "tile_layer.add_to(m)\n",
        "\n",
        "# カスタムCSSを追加してタイルレイヤーをモノクロ化\n",
        "m.get_root().html.add_child(folium.Element(\"\"\"\n",
        "<style>\n",
        "    .leaflet-tile {\n",
        "        filter: grayscale(100%);\n",
        "    }\n",
        "</style>\n",
        "\"\"\"))\n",
        "\n",
        "# TrajectoryCollectionの各Trajectoryをプロット\n",
        "dt_fmt = '%Y-%m-%d'\n",
        "for trajectory in collection.trajectories:\n",
        "    start_time = trajectory.get_start_time().strftime(dt_fmt)\n",
        "    trajectory.explore(\n",
        "        m=m,\n",
        "        column=\"speed\",\n",
        "        cmap='rainbow',\n",
        "        vmin=0, vmax=100,\n",
        "        legend=False,\n",
        "        style_kwds={'weight': 5, 'opacity': 0.7},\n",
        "        name=f'{start_time}'\n",
        "    )\n",
        "\n",
        "\n",
        "folium.LayerControl().add_to(m)\n",
        "display(m)"
      ]
    },
    {
      "cell_type": "markdown",
      "metadata": {
        "id": "Ii1NUV0S4q1K"
      },
      "source": [
        "## GPSデータからフローを作成する"
      ]
    },
    {
      "cell_type": "markdown",
      "metadata": {
        "id": "uVChONdn27sp"
      },
      "source": [
        "クリーニングしたTrajectoryを使って，行動の発着地を結んだフローを作成します．\n",
        "\n",
        "scikit-mobilityにはTrajDataFrameからフローを示すFlowDataFrameを作詞する機能があります．\n",
        "主に立ち寄り地とTessellationの空間結合を行う`tdf.mapping`メソッドと，\n",
        "`tdf.mapping`を行った後にTrajDataFrameをFlowDataFrameに変換する`tdf.to_flowdataframe`メソッドを使うのですが，\n",
        "scikit-mobilityに対応しているGeoPandasのバージョンが古いため今回のプログラムでは動きません．\n",
        "このため，自前でフローを作成します．\n",
        "\n",
        "フローの作成手順は以下になります．\n",
        "\n",
        "1. TrajDataFrameから立ち寄り地点を抽出する\n",
        "1. 近接している立ち寄り地点をクラスタリングする\n",
        "2. クラスタリングした立ち寄り地点から発着地の集計単位になるテッセレーションを作成する\n",
        "3. テッセレーションの代表点を求める\n",
        "4. 立ち寄り地点間のOD作成\n",
        "5. ODからフローの作成"
      ]
    },
    {
      "cell_type": "markdown",
      "metadata": {
        "id": "5aXKMcvkYwCS"
      },
      "source": [
        "### 立ち寄り地の検出"
      ]
    },
    {
      "cell_type": "markdown",
      "metadata": {
        "id": "TehiCJ7s4q1K"
      },
      "source": [
        "クリーニングしたTrajDataFrame（`clstdf'）に対して`detection.stay_location`を用いて立ち寄り地点を検出します．\n",
        "求めた立ち寄り地点はTrajDataFrameになります．\n",
        "\n",
        "ここでは半径200m（0.2km）以内に5分間以上止まった場合に立ち寄りとします．\n",
        "求めた立ち寄り地点のTrajDataFrameは`stops`とします．"
      ]
    },
    {
      "cell_type": "code",
      "execution_count": null,
      "metadata": {
        "id": "mwlNbRJ-4q1K"
      },
      "outputs": [],
      "source": [
        "stops = detection.stay_locations(clstdf, minutes_for_a_stop=5, spatial_radius_km=0.2)"
      ]
    },
    {
      "cell_type": "markdown",
      "metadata": {
        "id": "67OEnzo927sp"
      },
      "source": [
        "確認のため立ち寄り地点をプロットします．"
      ]
    },
    {
      "cell_type": "code",
      "execution_count": null,
      "metadata": {
        "id": "DNgvEiLk4q1K"
      },
      "outputs": [],
      "source": [
        "# 立ち寄り地をプロット\n",
        "stops.plot_trajectory(zoom=12, weight=3, opacity=0.9, max_users=100, max_points=None)"
      ]
    },
    {
      "cell_type": "markdown",
      "metadata": {
        "id": "xsXGAZQU4q1K"
      },
      "source": [
        "#### 立ち寄り地のクラスタリング"
      ]
    },
    {
      "cell_type": "markdown",
      "metadata": {
        "id": "J98xGo2R4q1K"
      },
      "source": [
        "`clustering.cluster`を使って同一地点と思われる立ち寄り地点をまとめます．\n",
        "属性`cluster`の値は，0ほどクラスターメンバーが多い事を示します．\n",
        "今回は半径1km以内を同一の立ち寄り地としました．\n",
        "クラスタリング済みの立ち寄り地点は`cstops`とします．"
      ]
    },
    {
      "cell_type": "code",
      "execution_count": null,
      "metadata": {
        "id": "8e81C6nk4q1K"
      },
      "outputs": [],
      "source": [
        "cstops = clustering.cluster(stops, cluster_radius_km=1, min_samples=1)"
      ]
    },
    {
      "cell_type": "markdown",
      "metadata": {
        "id": "86Q7K2AF4q1K"
      },
      "source": [
        "クラスタリングした立ち寄り地点をGeoDataFrameに変換し，インタラクティブマップに表示します．"
      ]
    },
    {
      "cell_type": "code",
      "execution_count": null,
      "metadata": {
        "id": "GfQSAwGe4q1K"
      },
      "outputs": [],
      "source": [
        "mapcenter = [32.92, 131.1]\n",
        "\n",
        "m = folium.Map(\n",
        "    location=mapcenter,\n",
        "    # tiles='https://cyberjapandata.gsi.go.jp/xyz/pale/{z}/{x}/{y}.png',\n",
        "    # attr='&copy; <a href=\"https://maps.gsi.go.jp/development/ichiran.html\">\\\n",
        "    #     # 地理院タイル</a>',\n",
        "    # name='淡色地図',\n",
        "    zoom_start=11\n",
        ")\n",
        "\n",
        "# 地理院タイル（淡色地図）を追加\n",
        "# '全国最新写真（シームレス）'も面白いかも\n",
        "# https://cyberjapandata.gsi.go.jp/xyz/seamlessphoto/{z}/{x}/{y}.jpg\n",
        "tile_layer = folium.TileLayer(\n",
        "    tiles='https://cyberjapandata.gsi.go.jp/xyz/pale/{z}/{x}/{y}.png',\n",
        "    attr='&copy; <a href=\"https://maps.gsi.go.jp/development/ichiran.html\">\\\n",
        "        地理院タイル</a>',\n",
        "    name='地理院地図'\n",
        ")\n",
        "tile_layer.add_to(m)\n",
        "\n",
        "# カスタムCSSを追加してタイルレイヤーをモノクロ化\n",
        "m.get_root().html.add_child(folium.Element(\"\"\"\n",
        "<style>\n",
        "    .leaflet-tile {\n",
        "        filter: grayscale(100%);\n",
        "    }\n",
        "</style>\n",
        "\"\"\"))\n",
        "\n",
        "cstops.to_geodataframe().explore(\n",
        "    m=m,\n",
        "    column='cluster',\n",
        "    style_kwds={'weight': 5})\n",
        "\n",
        "folium.LayerControl().add_to(m)\n",
        "display(m)\n"
      ]
    },
    {
      "cell_type": "markdown",
      "metadata": {
        "id": "VU4peNq04q1L"
      },
      "source": [
        "#### メッシュ単位のフローデータの作成"
      ]
    },
    {
      "cell_type": "markdown",
      "metadata": {
        "id": "DR5M6mzk27sq"
      },
      "source": [
        "立ち寄り地点を空間集計するためにテッセレーションを作成します．\n",
        "テッセレーションは任意のポリゴンデータを使うことができますが，\n",
        "scikit-mobilityの`tilers.tiler`を使って方形メッシュのテッセレーションを作成することもできます．\n",
        "\n",
        "`tilers.tiler`はパラメーターとして範囲を示す`base_shape`を指定できます．\n",
        "`base_shape`としてGeoDataFrameに変換した立ち寄り地点のデータ`cstops`を指定すれば，\n",
        "立ち寄り地点の範囲のテッセレーションが作成できます．\n",
        "\n",
        "ここでは`cstops`の範囲の5km正方メッシュのテッセレーションを作成します．"
      ]
    },
    {
      "cell_type": "code",
      "execution_count": null,
      "metadata": {
        "id": "Y4P3hduk4q1L"
      },
      "outputs": [],
      "source": [
        "# クラスタリングした立ち寄り地からテッセレーションを作成する\n",
        "\n",
        "# クラスタリングした立ち寄り地をGeoDataFrameに変換\n",
        "cstops_gdf = cstops.to_geodataframe()\n",
        "# GeoDataFrameを元にテッセレーションを作成\n",
        "tessellation = tilers.tiler.get(\"squared\", base_shape=cstops_gdf, meters=5000)"
      ]
    },
    {
      "cell_type": "markdown",
      "metadata": {
        "id": "9NFe8TZ94q1L"
      },
      "source": [
        "作成したテッセレーションとクラスタリングした立ち寄り地点を地図表示します．"
      ]
    },
    {
      "cell_type": "code",
      "execution_count": null,
      "metadata": {
        "id": "39IX6RxD4q1L"
      },
      "outputs": [],
      "source": [
        "mapcenter = [32.92, 131.1]\n",
        "\n",
        "m = folium.Map(\n",
        "    location=mapcenter,\n",
        "    zoom_start=11\n",
        ")\n",
        "\n",
        "# 地理院タイル（淡色地図）を追加\n",
        "# '全国最新写真（シームレス）'も面白いかも\n",
        "# https://cyberjapandata.gsi.go.jp/xyz/seamlessphoto/{z}/{x}/{y}.jpg\n",
        "tile_layer = folium.TileLayer(\n",
        "    tiles='https://cyberjapandata.gsi.go.jp/xyz/pale/{z}/{x}/{y}.png',\n",
        "    attr='&copy; <a href=\"https://maps.gsi.go.jp/development/ichiran.html\">\\\n",
        "        地理院タイル</a>',\n",
        "    name='地理院地図'\n",
        ")\n",
        "tile_layer.add_to(m)\n",
        "\n",
        "# カスタムCSSを追加してタイルレイヤーをモノクロ化\n",
        "m.get_root().html.add_child(folium.Element(\"\"\"\n",
        "<style>\n",
        "    .leaflet-tile {\n",
        "        filter: grayscale(100%);\n",
        "    }\n",
        "</style>\n",
        "\"\"\"))\n",
        "\n",
        "tessellation.explore(\n",
        "    m=m,\n",
        "    name='Tessellation',\n",
        "    style_kwds={'fillColor': 'none'}\n",
        ")\n",
        "\n",
        "cstops_gdf.explore(\n",
        "    m=m,\n",
        "    column='cluster',\n",
        "    name='Clustered Stops',\n",
        "    style_kwds={'weight': 5}\n",
        ")\n",
        "\n",
        "folium.LayerControl().add_to(m)\n",
        "display(m)"
      ]
    },
    {
      "cell_type": "markdown",
      "metadata": {
        "id": "rBsAT9wFYwCT"
      },
      "source": [
        "#### クラスタリングした立ち寄り地に (Origin) を設定する"
      ]
    },
    {
      "cell_type": "markdown",
      "metadata": {
        "id": "VvlmKT0727sq"
      },
      "source": [
        "テッセレーションにはメッシュのIDとなる`tile_id`があります．\n",
        "この`tile_ID`をクラスタリングした立ち寄り地点に空間結合し，\n",
        "どの立ち寄り地点がどのメッシュに含まれているか識別できるようにします．\n",
        "この`tile_ID`が，ある立ち寄り地点の「発地ID（origin）」になります．\n",
        "\n",
        "クラスタリングした立ち寄り地点とテッセレーションを`sjoin`メソッドで空間結合します．\n",
        "この際，結合は左結合（`cstops`に合わせて結合）で，空間関係は「含まれる（`within`）」になります．\n",
        "これで立ち寄り地点の属性にその立ち寄り地点を含むメッシュの属性が結合されます．\n",
        "結合後の属性名`tile_ID`を`origin`に変更し，不要な列`index_right`を削除します．\n",
        "最後に属性`origin`の型を実数にキャストし，着地IDを格納する属性`destination`を確保します．\n"
      ]
    },
    {
      "cell_type": "code",
      "execution_count": null,
      "metadata": {
        "id": "1lv5OiY24q1L"
      },
      "outputs": [],
      "source": [
        "# 空間結合で発地を設定する．発地ID（originの値）はTessellationのtile_IDを使用する．\n",
        "temp = cstops_gdf.to_crs(epsg=4326).sjoin(tessellation, how='left', predicate='within')\\\n",
        "  .rename(columns={'tile_ID': 'origin'})\\\n",
        "  .drop('index_right', axis=1)\n",
        "\n",
        "# 発地（origin）の型をfloat64に変換\n",
        "temp.astype({'origin': np.float64})\n",
        "# 着地（destination）の列を追加\n",
        "temp['destination'] = np.float64(0)\n"
      ]
    },
    {
      "cell_type": "markdown",
      "metadata": {
        "id": "XT64wFPlYwCT"
      },
      "source": [
        "#### クラスタリングした立ち寄り地に着地 (Destination) を設定する"
      ]
    },
    {
      "cell_type": "markdown",
      "metadata": {
        "id": "mQCVOi0F27sq"
      },
      "source": [
        "次に着地（destination）を設定します．\n",
        "着地はある立ち寄り地点から次にどの着地点に移動するかを示したもので，\n",
        "発地と同様にメッシュのIDで表します．\n",
        "\n",
        "ここである日の立ち寄り地点の一部を見てみます．"
      ]
    },
    {
      "cell_type": "code",
      "execution_count": null,
      "metadata": {
        "id": "24wbYaZW27sq"
      },
      "outputs": [],
      "source": [
        "temp[temp['uid']==0].head(10)"
      ]
    },
    {
      "cell_type": "markdown",
      "metadata": {
        "id": "zUre7A9O27sq"
      },
      "source": [
        "最初の発地（`origin`）はメッシュ番号70です．\n",
        "`datetime`はその立ち寄り地点に着いた時刻，`leaving_datetime`は立ち寄り地点を離れた時刻です．\n",
        "データは時刻順に並んでいるため，ある立ち寄り地点の着地は次の立ち寄り地点の発地（`origin`）になります．\n",
        "\n",
        "従って，時系列順に発地のリストを作成し，一つずらしたものをその日の立ち寄り地の着地に入れれば良いことになります．\n",
        "最後の立ち寄り地点だけは着地が無いために削除します．\n",
        "\n",
        "以下では上記を行い．最終的に発着地が加わった立ち寄り地点を`od`として保存します．\n"
      ]
    },
    {
      "cell_type": "code",
      "execution_count": null,
      "metadata": {
        "id": "xhOdr5dD4q1M"
      },
      "outputs": [],
      "source": [
        "# 発着地IDを含むGeoDataFrameを作成\n",
        "od = gpd.GeoDataFrame()\n",
        "\n",
        "# uidごとに処理するため，uidのユニーク値をリスト化する\n",
        "uids = temp['uid'].unique().astype(int).tolist()\n",
        "# uidごとに処理を行う\n",
        "for uid in uids:\n",
        "  # uidごとのデータをtempから抽出\n",
        "  temp_origin = temp[temp['uid'] == uid]\n",
        "  # 着地のリストを作成する．着地は発地を1つずらしたもの\n",
        "  temp_dest = np.roll(temp_origin['origin'], -1).astype(np.float64)\n",
        "  # 最後のデータは着地がないため，nanにする\n",
        "  temp_dest[-1] = np.nan\n",
        "  # 着地の列を追加する\n",
        "  temp_origin.loc[:, 'destination'] = temp_dest\n",
        "  # 結果をodに追加する\n",
        "  od = pd.concat([od, temp_origin])\n",
        "# 着地のない行（着地がnanになっている行）を削除する\n",
        "od.dropna(inplace=True)\n",
        "# originとdestinationの型をint64に変換する\n",
        "od = od.astype({'origin': np.int64, 'destination': np.int64})"
      ]
    },
    {
      "cell_type": "markdown",
      "metadata": {
        "id": "FmP_B7nZYwCT"
      },
      "source": [
        "作成した`OD`を確認してみます．\n",
        "ある立ち寄り地点の着地（`destination`）が次の地点の発地（'origin'）になっています．"
      ]
    },
    {
      "cell_type": "code",
      "execution_count": null,
      "metadata": {
        "id": "IJ348aiY4q1M"
      },
      "outputs": [],
      "source": [
        "od.head(10)"
      ]
    },
    {
      "cell_type": "markdown",
      "metadata": {
        "id": "nrdWLHd7YwCT"
      },
      "source": [
        "発着地が揃った立ち寄り地点データが作成できたら，\n",
        "発着地の組み合わせごとにカウントしして縦持ちのOD行列を作成します．\n",
        "\n",
        "作成したOD行列は`odc`として保存します．"
      ]
    },
    {
      "cell_type": "code",
      "execution_count": null,
      "metadata": {
        "id": "Fk_43w8HYwCT"
      },
      "outputs": [],
      "source": [
        "# originとdestinationの組み合わせごとのカウントを取得する\n",
        "odc = od.groupby(['origin', 'destination']).size().rename('count').reset_index()"
      ]
    },
    {
      "cell_type": "markdown",
      "metadata": {
        "id": "21JgKuvi27sr"
      },
      "source": [
        "ODCも確認してみます．"
      ]
    },
    {
      "cell_type": "code",
      "execution_count": null,
      "metadata": {
        "id": "jPLBQQjvYwCT"
      },
      "outputs": [],
      "source": [
        "odc.head(10)"
      ]
    },
    {
      "cell_type": "markdown",
      "metadata": {
        "id": "L1EcL6kV27sr"
      },
      "source": [
        "ちゃんとカウントできているようです．"
      ]
    },
    {
      "cell_type": "markdown",
      "metadata": {
        "id": "JLDAGNVRYwCT"
      },
      "source": [
        "#### フローデータの作成"
      ]
    },
    {
      "cell_type": "markdown",
      "metadata": {
        "id": "fxstS4OpYwCT"
      },
      "source": [
        "OD行列（`odc`）の`origin`から`destination`へラインを引いてフローを作成します．\n",
        "`origin`と`destination`の座標は，テッセレーションの対応するメッシュの代表点とします．\n",
        "\n",
        "テッセレーションの各メッシュの代表点の座標を求め,`cts_cent`に格納します．"
      ]
    },
    {
      "cell_type": "code",
      "execution_count": null,
      "metadata": {
        "id": "ZTSvUR_RYwCT"
      },
      "outputs": [],
      "source": [
        "# Tessellationの代表点の座標を取得する\n",
        "# 重心だと，Tessellationの形状によっては外に出てしまうことがあるため，\n",
        "# 代表点（representative_point）を使用する\n",
        "cts_cent = gpd.GeoDataFrame(tessellation.representative_point())\\\n",
        "  .rename(columns={0: 'geometry'})\\\n",
        "  .set_geometry('geometry')\\\n",
        "  .set_crs(epsg=4326)"
      ]
    },
    {
      "cell_type": "markdown",
      "metadata": {
        "id": "FfN-E1Oc27sr"
      },
      "source": [
        "確認します．"
      ]
    },
    {
      "cell_type": "code",
      "execution_count": null,
      "metadata": {
        "id": "Cbe2yaMQ27sr"
      },
      "outputs": [],
      "source": [
        "cts_cent.head(10)"
      ]
    },
    {
      "cell_type": "markdown",
      "metadata": {
        "id": "2iDypIv_YwCT"
      },
      "source": [
        "テッセレーションの代表点（`cts_cent`）とテッセレーション（`tesselation`）を空間結合し，\n",
        "テッセレーションの代表点（`cts_cent`）にの`tile_ID`を加えます．"
      ]
    },
    {
      "cell_type": "code",
      "execution_count": null,
      "metadata": {
        "id": "q17yz4gdYwCU"
      },
      "outputs": [],
      "source": [
        "# Tessellationの代表点にtile_IDを空間結合する\n",
        "cts_id = cts_cent.sjoin(tessellation, how='left', predicate='within')\\\n",
        "  .astype({'tile_ID': np.int64})\\\n",
        "  .drop('index_right', axis=1)\n"
      ]
    },
    {
      "cell_type": "markdown",
      "metadata": {
        "id": "ZNYt6usNmRmB"
      },
      "source": [
        "確認します．"
      ]
    },
    {
      "cell_type": "code",
      "execution_count": null,
      "metadata": {
        "id": "Z9p1pGGNtCjG"
      },
      "outputs": [],
      "source": [
        "cts_id.head(10)"
      ]
    },
    {
      "cell_type": "markdown",
      "metadata": {
        "id": "szM9bYlgYwCU"
      },
      "source": [
        "ODの発地（`origin`）と着地（`destination`）に座標を結合し，\n",
        "それぞれ`odc_o`と`odc_d`として保存します．"
      ]
    },
    {
      "cell_type": "code",
      "execution_count": null,
      "metadata": {
        "id": "14GaBBheYwCU"
      },
      "outputs": [],
      "source": [
        "# originの座標を結合\n",
        "odc_o = gpd.GeoDataFrame(odc.merge(cts_id, left_on='origin', right_on='tile_ID', how='left'))\n",
        "# destinationの座標を結合\n",
        "odc_d = gpd.GeoDataFrame(odc.merge(cts_id, left_on='destination', right_on='tile_ID', how='left'))\n"
      ]
    },
    {
      "cell_type": "markdown",
      "metadata": {
        "id": "is3H7tYWmVD_"
      },
      "source": [
        "結果を確認します．"
      ]
    },
    {
      "cell_type": "code",
      "execution_count": null,
      "metadata": {
        "id": "16KVP5VDtT1J"
      },
      "outputs": [],
      "source": [
        "odc_o.head(10)"
      ]
    },
    {
      "cell_type": "markdown",
      "metadata": {
        "id": "TrEY_IsbmYJI"
      },
      "source": [
        "`odc_d`も確認します．"
      ]
    },
    {
      "cell_type": "code",
      "execution_count": null,
      "metadata": {
        "id": "3KExYVCFrAS2"
      },
      "outputs": [],
      "source": [
        "odc_d.head(10)"
      ]
    },
    {
      "cell_type": "markdown",
      "metadata": {
        "id": "KBf4d3jjYwCU"
      },
      "source": [
        "`odc_o`から`odc_d`にラインを引き，フローを作成（`flow_gdf`）します．"
      ]
    },
    {
      "cell_type": "code",
      "execution_count": null,
      "metadata": {
        "id": "prjyIHP7YwCU"
      },
      "outputs": [],
      "source": [
        "# flowを示すGeoDataFrameを作成する\n",
        "flow_gdf = gpd.GeoDataFrame(columns=['geometry'], crs=odc_o.crs)\n",
        "# originとdestinationの座標の組からflowを作成する\n",
        "for ori, des in zip(odc_o.geometry, odc_d.geometry):\n",
        "  # originとdestinationの座標からflowを作成\n",
        "  segment = LineString([[ori.x, ori.y], [des.x, des.y]])\n",
        "  # flowをGeoDataFrameに追加\n",
        "  flow_gdf = pd.concat([flow_gdf, gpd.GeoDataFrame({'geometry': [segment]})])\n",
        "# flowにcountを追加\n",
        "flow_gdf['count'] = list(odc['count'])"
      ]
    },
    {
      "cell_type": "markdown",
      "metadata": {
        "id": "8XNfT2adxeGj"
      },
      "source": [
        "作成したフローを表示してみましょう．"
      ]
    },
    {
      "cell_type": "code",
      "execution_count": null,
      "metadata": {
        "id": "NysLIRiUYwCU"
      },
      "outputs": [],
      "source": [
        "flow_gdf.sort_values('count', ascending=True)\\\n",
        "  .plot(column='count', cmap='rainbow', legend=True, vmax=5)"
      ]
    },
    {
      "cell_type": "markdown",
      "metadata": {
        "id": "4ckt3ygmxkrQ"
      },
      "source": [
        "インタラクティブマップでも表示してみます．"
      ]
    },
    {
      "cell_type": "code",
      "execution_count": null,
      "metadata": {
        "id": "9YlOkL8JYwCU"
      },
      "outputs": [],
      "source": [
        "mapcenter = [32.92, 131.1]\n",
        "\n",
        "m = folium.Map(\n",
        "    location=mapcenter,\n",
        "    zoom_start=11\n",
        ")\n",
        "\n",
        "# 地理院タイル（淡色地図）を追加\n",
        "# '全国最新写真（シームレス）'も面白いかも\n",
        "# https://cyberjapandata.gsi.go.jp/xyz/seamlessphoto/{z}/{x}/{y}.jpg\n",
        "tile_layer = folium.TileLayer(\n",
        "    tiles='https://cyberjapandata.gsi.go.jp/xyz/pale/{z}/{x}/{y}.png',\n",
        "    attr='&copy; <a href=\"https://maps.gsi.go.jp/development/ichiran.html\">\\\n",
        "        地理院タイル</a>',\n",
        "    name='地理院地図'\n",
        ")\n",
        "tile_layer.add_to(m)\n",
        "\n",
        "# カスタムCSSを追加してタイルレイヤーをモノクロ化\n",
        "m.get_root().html.add_child(folium.Element(\"\"\"\n",
        "<style>\n",
        "    .leaflet-tile {\n",
        "        filter: grayscale(100%);\n",
        "    }\n",
        "</style>\n",
        "\"\"\"))\n",
        "\n",
        "tessellation.explore(\n",
        "    m=m,\n",
        "    name='Tessellation',\n",
        "    style_kwds={'fillColor': 'none'}\n",
        ")\n",
        "\n",
        "cstops_gdf.explore(\n",
        "    m=m,\n",
        "    column='cluster',\n",
        "    name='Clustered Stops',\n",
        "    style_kwds={'weight': 5}\n",
        ")\n",
        "\n",
        "flow_gdf.explore(\n",
        "    m=m,\n",
        "    column='count',\n",
        "    style_kwds={'weight': 3},\n",
        "    name='flow',\n",
        "    vmax=5\n",
        ")\n",
        "\n",
        "folium.LayerControl().add_to(m)\n",
        "display(m)"
      ]
    },
    {
      "cell_type": "markdown",
      "metadata": {
        "id": "xwfGaVwM4q1Q"
      },
      "source": [
        "#### 結果をGeoJSONに保存する"
      ]
    },
    {
      "cell_type": "markdown",
      "metadata": {
        "id": "VleafBdL27ss"
      },
      "source": [
        "立ち寄り地（`cstops_gdf`），テッセレーション（`tesselalation`），フロー（`flow_gdf`）をGeoJSONでファイル出力します．\n",
        "すべてGeoDataFrameなので，`to_file`メソッドでファイル出力できます．\n",
        "今回はGeoJSONで出力しましたが，GeoPackageやシェープファイルでの出力も可能です．\n",
        "ただし，ファイル形式によってはデータの型が保持されないことがあるので注意が必要です．\n",
        "例えばシェープファイルは時刻を保持する型がありません．"
      ]
    },
    {
      "cell_type": "code",
      "execution_count": null,
      "metadata": {
        "id": "5u2Mt1jH4q1Q"
      },
      "outputs": [],
      "source": [
        "# 立ち寄り地（cstops_gdf）をGeoJSONで保存する\n",
        "cstops_gdf.to_file(base_dir + 'cstops.geojson', driver='GeoJSON')\n",
        "# TessellationをGeoJSONで保存する\n",
        "tessellation.to_file(base_dir + 'mesh_tessellation.geojson', driver='GeoJSON')\n",
        "# フロー（flow_gdf)をGeoJSONで保存する\n",
        "flow_gdf.to_file(base_dir + 'mesh_flow.geojson', driver='GeoJSON')"
      ]
    },
    {
      "cell_type": "markdown",
      "metadata": {
        "id": "98y6DntdYwCU"
      },
      "source": [
        "#### 小地域単位のフローデータの作成"
      ]
    },
    {
      "cell_type": "markdown",
      "metadata": {
        "id": "Ty3NFlatxsNq"
      },
      "source": [
        "正方メッシュのテッセレーションではなく，小地域をテッセレーションにした場合も実行してみましょう．\n",
        "ファイル`r2ka.fgb`はFlatGeoBuf型式の小地域ポリゴンで，e-Statからダウンロードした熊本県と宮崎県のデータから作成しました．\n",
        "\n",
        "立ち寄り地点は正方メッシュのテッセレーションのフロー作成の時に使ったものをそのまま利用します．\n",
        "一気に実行するようになっているので，プログラムを読み取ってみてください．\n"
      ]
    },
    {
      "cell_type": "code",
      "execution_count": null,
      "metadata": {
        "collapsed": true,
        "id": "TJ8DGB9AYwCU"
      },
      "outputs": [],
      "source": [
        "# 対象地域の小地域ポリゴンからtessellationを作成する\n",
        "\n",
        "# 熊本県・宮崎県の小地域ポリゴンのparquetからデータを読み込み，\n",
        "# 緯度経度をWGS84に変換してGeoDataFrameに格納する\n",
        "tessellation = gpd.read_file(base_dir + 'r2ka.fgb')\\\n",
        "  .to_crs(epsg=4326)\\\n",
        "  .reset_index()\n",
        "\n",
        "# 必要な列のみを残す\n",
        "tessellation = tessellation[['KEY_CODE', 'PREF_NAME', 'CITY_NAME', 'S_NAME', 'geometry']]\n",
        "# indexをtile_IDにする\n",
        "tessellation['tile_ID'] = tessellation.index\n",
        "\n",
        "# 空間結合で発地を設定する．発地ID（originの値）はTessellationのtile_IDを使用する．\n",
        "temp = cstops_gdf.to_crs(epsg=4326).sjoin(tessellation, how='left', predicate='within')\\\n",
        "  .rename(columns={'tile_ID': 'origin'})\\\n",
        "  .drop('index_right', axis=1)\n",
        "\n",
        "# 発地（origin）の型をfloat64に変換\n",
        "temp.astype({'origin': np.float64})\n",
        "# 着地（destination）の列を追加\n",
        "temp['destination'] = np.float64(0)\n",
        "\n",
        "# 発着地IDを含むGeoDataFrameを作成\n",
        "od = gpd.GeoDataFrame()\n",
        "\n",
        "# uidごとに処理するため，uidのユニーク値をリスト化する\n",
        "uids = temp['uid'].unique().astype(int).tolist()\n",
        "# uidごとに処理を行う\n",
        "for uid in uids:\n",
        "  # uidごとのデータをtempから抽出\n",
        "  temp_origin = temp[temp['uid'] == uid]\n",
        "  # 着地のリストを作成する．着地は発地を1つずらしたもの\n",
        "  temp_dest = np.roll(temp_origin['origin'], -1).astype(np.float64)\n",
        "  # 最後のデータは着地がないため，nanにする\n",
        "  temp_dest[-1] = np.nan\n",
        "  # 着地の列を追加する\n",
        "  temp_origin.loc[:, 'destination'] = temp_dest\n",
        "  # 結果をodに追加する\n",
        "  od = pd.concat([od, temp_origin])\n",
        "# 着地のない行（着地がnanになっている行）を削除する\n",
        "od.dropna(inplace=True)\n",
        "# originとdestinationの型をint64に変換する\n",
        "od = od.astype({'origin': np.int64, 'destination': np.int64})\n",
        "\n",
        "# originとdestinationの組み合わせごとのカウントを取得する\n",
        "odc = od.groupby(['origin', 'destination']).size().rename('count').reset_index()\n",
        "\n",
        "# Tessellationの代表点の座標を取得する\n",
        "cts_cent = gpd.GeoDataFrame(tessellation.representative_point())\\\n",
        "  .rename(columns={0: 'geometry'})\\\n",
        "  .set_geometry('geometry')\\\n",
        "  .set_crs(epsg=4326)\n",
        "\n",
        "# Tessellationの代表点にtile_IDを空間結合する\n",
        "cts_id = cts_cent.sjoin(tessellation, how='left', predicate='within')\\\n",
        "  .astype({'tile_ID': np.int64})\\\n",
        "  .drop('index_right', axis=1)\n",
        "\n",
        "# originの座標を結合\n",
        "odc_o = gpd.GeoDataFrame(odc.merge(cts_id, left_on='origin', right_on='tile_ID', how='left'))\n",
        "# destinationの座標を結合\n",
        "odc_d = gpd.GeoDataFrame(odc.merge(cts_id, left_on='destination', right_on='tile_ID', how='left'))\n",
        "\n",
        "# flowを示すGeoDataFrameを作成する\n",
        "flow_gdf = gpd.GeoDataFrame(columns=['geometry'], crs=odc_o.crs)\n",
        "# originとdestinationの座標の組からflowを作成する\n",
        "for ori, des in zip(odc_o.geometry, odc_d.geometry):\n",
        "  # originとdestinationの座標からflowを作成\n",
        "  segment = LineString([[ori.x, ori.y], [des.x, des.y]])\n",
        "  # flowをGeoDataFrameに追加\n",
        "  flow_gdf = pd.concat([flow_gdf, gpd.GeoDataFrame({'geometry': [segment]})])\n",
        "# flowにcountを追加\n",
        "flow_gdf['count'] = list(odc['count'])"
      ]
    },
    {
      "cell_type": "markdown",
      "metadata": {
        "id": "0dDT74Q0xyGC"
      },
      "source": [
        "とりあえずプロットして結果を確認してみましょう．"
      ]
    },
    {
      "cell_type": "code",
      "execution_count": null,
      "metadata": {
        "id": "1lUTxa7hYwCU"
      },
      "outputs": [],
      "source": [
        "flow_gdf.sort_values('count', ascending=True)\\\n",
        "  .plot(column='count', cmap='rainbow', legend=True, vmax=5)"
      ]
    },
    {
      "cell_type": "markdown",
      "metadata": {
        "id": "iwvgDwdIx3qM"
      },
      "source": [
        "インタラクティブマップでも表示してみます．"
      ]
    },
    {
      "cell_type": "code",
      "execution_count": null,
      "metadata": {
        "id": "c3hlLYyXYwCU"
      },
      "outputs": [],
      "source": [
        "mapcenter = [32.92, 131.1]\n",
        "\n",
        "m = folium.Map(\n",
        "    location=mapcenter,\n",
        "    zoom_start=11\n",
        ")\n",
        "\n",
        "# 地理院タイル（淡色地図）を追加\n",
        "# '全国最新写真（シームレス）'も面白いかも\n",
        "# https://cyberjapandata.gsi.go.jp/xyz/seamlessphoto/{z}/{x}/{y}.jpg\n",
        "tile_layer = folium.TileLayer(\n",
        "    tiles='https://cyberjapandata.gsi.go.jp/xyz/pale/{z}/{x}/{y}.png',\n",
        "    attr='&copy; <a href=\"https://maps.gsi.go.jp/development/ichiran.html\">\\\n",
        "        地理院タイル</a>',\n",
        "    name='地理院地図'\n",
        ")\n",
        "tile_layer.add_to(m)\n",
        "\n",
        "# カスタムCSSを追加してタイルレイヤーをモノクロ化\n",
        "m.get_root().html.add_child(folium.Element(\"\"\"\n",
        "<style>\n",
        "    .leaflet-tile {\n",
        "        filter: grayscale(100%);\n",
        "    }\n",
        "</style>\n",
        "\"\"\"))\n",
        "\n",
        "tessellation.explore(\n",
        "    m=m,\n",
        "    name='Tessellation',\n",
        "    style_kwds={'fillColor': 'none'}\n",
        ")\n",
        "\n",
        "cstops_gdf.explore(\n",
        "    m=m,\n",
        "    column='cluster',\n",
        "    name='Clustered Stops',\n",
        "    style_kwds={'weight': 5}\n",
        ")\n",
        "\n",
        "flow_gdf.sort_values('count', ascending=True).explore(\n",
        "    m=m,\n",
        "    column='count',\n",
        "    cmap='rainbow',\n",
        "    style_kwds={'weight': 3, 'opacity': 0.7},\n",
        "    name='flow',\n",
        "    vmax=5\n",
        ")\n",
        "\n",
        "folium.LayerControl().add_to(m)\n",
        "display(m)"
      ]
    },
    {
      "cell_type": "markdown",
      "metadata": {
        "id": "thX3n3ropGCc"
      },
      "source": [
        "##### 立ち寄り地，Tessellation，flowlineをGeoJSONで保存する"
      ]
    },
    {
      "cell_type": "markdown",
      "metadata": {
        "id": "yiL3QpSw27st"
      },
      "source": [
        "こちらの結果もGeoJSONでファイル保存します．"
      ]
    },
    {
      "cell_type": "code",
      "execution_count": null,
      "metadata": {
        "id": "HwB8v8rEo_uH"
      },
      "outputs": [],
      "source": [
        "# 立ち寄り地（cstops_gdf）をGeoJSONで保存する\n",
        "cstops_gdf.to_file(base_dir + 'cstops.geojson', driver='GeoJSON')\n",
        "# TessellationをGeoJSONで保存する\n",
        "tessellation.to_file(base_dir + 'area_tessellation.geojson', driver='GeoJSON')\n",
        "# フロー（flow_gdf)をGeoJSONで保存する\n",
        "flow_gdf.to_file(base_dir + 'area_flow.geojson', driver='GeoJSON')\n"
      ]
    },
    {
      "cell_type": "markdown",
      "metadata": {
        "id": "ABwXsBj-4q1Q"
      },
      "source": [
        "# MASデータの分析\n"
      ]
    },
    {
      "cell_type": "markdown",
      "metadata": {
        "id": "kv6vYgxQ27st"
      },
      "source": [
        "MASはマルチエージェントシミュレーションの略で，\n",
        "個々に行動ルールを持ち互いに影響し合う多数のエージェントが行動することにより，\n",
        "全体としてどのような振る舞いが生じるかをシミュレートするものです．\n",
        "\n",
        "この章では，熊本県阿蘇市内牧地区を対象に行ったMASの結果を用いて，\n",
        "データのクリーニングおよび縮約を行い，\n",
        "行動のボトルネックとなる場所を抽出することを目的とします．\n",
        "\n",
        "MASの結果をアニメーション化したものは，以下のリンクからご覧下さい．\n",
        "\n",
        "[講習用動画（YouTube）](https://youtu.be/-x3bb2BwD7k)\n",
        "\n",
        "使用したMASプログラムについては，\n",
        "[GIS Day in 東京 2023 Eコースマルチエージェントシミュレーションを使った人の動きのシミュレーション」](https://github.com/bokutachi256/gisday2023)をご覧下さい．"
      ]
    },
    {
      "cell_type": "markdown",
      "metadata": {
        "id": "JeIiSjn-pReL"
      },
      "source": [
        "## ファイルの読み込み"
      ]
    },
    {
      "cell_type": "markdown",
      "metadata": {
        "id": "Wi43j9bI27st"
      },
      "source": [
        "MASの結果はFlatGeoBuf型式で保存されています．\n",
        "このファイルを読み込んでGeoDataFrameにします．"
      ]
    },
    {
      "cell_type": "code",
      "execution_count": null,
      "metadata": {
        "id": "-rf8De-04q1Q"
      },
      "outputs": [],
      "source": [
        "# 読み込むファイル名\n",
        "mas_file = 'gisday2024_agent_vars.fgb'\n",
        "# ファイルの読み込み\n",
        "indata = gpd.read_file(base_dir + mas_file).to_crs(epsg=4326)\n",
        "# ゴール後のワープ先を削除\n",
        "mas_data = indata[indata['Goal'] == 0]\n",
        "# スタート前の滞留を削除\n",
        "mas_data = mas_data[mas_data['start_move']==0]"
      ]
    },
    {
      "cell_type": "markdown",
      "metadata": {
        "id": "dXKEOOuApbOF"
      },
      "source": [
        "読み込んだデータを確認します．"
      ]
    },
    {
      "cell_type": "code",
      "execution_count": null,
      "metadata": {
        "id": "nV2tkTvX4q1Q"
      },
      "outputs": [],
      "source": [
        "len(mas_data)"
      ]
    },
    {
      "cell_type": "markdown",
      "metadata": {
        "id": "RvERdAndploD"
      },
      "source": [
        "読み込んだデータをTrajDataFrameに変換します．"
      ]
    },
    {
      "cell_type": "code",
      "execution_count": null,
      "metadata": {
        "id": "4vQ6AHxs4q1Q"
      },
      "outputs": [],
      "source": [
        "df = pd.DataFrame()\n",
        "df['lon'] = mas_data.geometry.x\n",
        "df['lat'] = mas_data.geometry.y\n",
        "df['datetime'] = mas_data['Time']\n",
        "df['id'] = mas_data['AgentID']\n",
        "df['evac_no'] = mas_data['Evac_no']\n",
        "\n",
        "tdf = skmob.TrajDataFrame(\n",
        "  df,\n",
        "  latitude='lat',\n",
        "  longitude = 'lon',\n",
        "  datetime='datetime',\n",
        "  user_id='id'\n",
        ")\n"
      ]
    },
    {
      "cell_type": "markdown",
      "metadata": {
        "id": "r0PpVYuGrBa-"
      },
      "source": [
        "Trajectoryを表示します．"
      ]
    },
    {
      "cell_type": "code",
      "execution_count": null,
      "metadata": {
        "id": "SL1J92p24q1R"
      },
      "outputs": [],
      "source": [
        "tdf.plot_trajectory(zoom=12, weight=3, opacity=0.9, max_users=1000, start_end_markers=False)"
      ]
    },
    {
      "cell_type": "markdown",
      "metadata": {
        "id": "zo2uk1o6z6Bg"
      },
      "source": [
        "## 経路データのクリーニング"
      ]
    },
    {
      "cell_type": "markdown",
      "metadata": {
        "id": "IZpOEHcZt8aX"
      },
      "source": [
        "時速100km以上とループを削除します．"
      ]
    },
    {
      "cell_type": "code",
      "execution_count": null,
      "metadata": {
        "id": "IWarBFrquHep"
      },
      "outputs": [],
      "source": [
        "ftdf = filtering.filter(tdf, max_speed_kmh=100, include_loops=True)"
      ]
    },
    {
      "cell_type": "code",
      "execution_count": null,
      "metadata": {
        "id": "HBuB8lBNwTRl"
      },
      "outputs": [],
      "source": [
        "print(f'オリジナル: {len(tdf)}')\n",
        "print(f'ループを含む速度フィルタリング後: {len(ftdf)}')"
      ]
    },
    {
      "cell_type": "markdown",
      "metadata": {
        "id": "9crW1LWN27su"
      },
      "source": [
        "プロットして確認します．"
      ]
    },
    {
      "cell_type": "code",
      "execution_count": null,
      "metadata": {
        "id": "fsoBpMJzwVXz"
      },
      "outputs": [],
      "source": [
        "ftdf.plot_trajectory(zoom=12, weight=3, opacity=0.9, max_users=1000, start_end_markers=False)"
      ]
    },
    {
      "cell_type": "markdown",
      "metadata": {
        "id": "k1-PiMIgzmDM"
      },
      "source": [
        "## 経路データからの滞留ポイント抽出"
      ]
    },
    {
      "cell_type": "markdown",
      "metadata": {
        "id": "WToGIJnKraOn"
      },
      "source": [
        "半径20m以内に2分以上滞留していたものを検出します．"
      ]
    },
    {
      "cell_type": "code",
      "execution_count": null,
      "metadata": {
        "id": "pM-QtWcD4q1R"
      },
      "outputs": [],
      "source": [
        "stdf = detection.stay_locations(\n",
        "  ftdf, stop_radius_factor=0.5, minutes_for_a_stop=2.0,\n",
        "  spatial_radius_km=0.02, leaving_time=True\n",
        ")"
      ]
    },
    {
      "cell_type": "markdown",
      "metadata": {
        "id": "EMh6cBtQ27su"
      },
      "source": [
        "結果を確認します．"
      ]
    },
    {
      "cell_type": "code",
      "execution_count": null,
      "metadata": {
        "id": "_5xh8ihPri3t"
      },
      "outputs": [],
      "source": [
        "stdf.head(10)"
      ]
    },
    {
      "cell_type": "markdown",
      "metadata": {
        "id": "K2n234ag27su"
      },
      "source": [
        "滞留ポイント数も確認します．"
      ]
    },
    {
      "cell_type": "code",
      "execution_count": null,
      "metadata": {
        "id": "6bUq5x9Nr2Om"
      },
      "outputs": [],
      "source": [
        "print(f'滞留ポイント数: {len(stdf)}')"
      ]
    },
    {
      "cell_type": "markdown",
      "metadata": {
        "id": "wycA9Evhs93k"
      },
      "source": [
        "GeoDataFrameに変換して滞留ポイントをインタラクティブマップに表示します．"
      ]
    },
    {
      "cell_type": "code",
      "execution_count": null,
      "metadata": {
        "id": "zjbBp0_D4q1R"
      },
      "outputs": [],
      "source": [
        "stay_gdf = stdf.to_geodataframe()\n",
        "\n",
        "mapcenter = [32.975, 131.04]\n",
        "\n",
        "m = folium.Map(\n",
        "  location=mapcenter,\n",
        "  tiles='https://cyberjapandata.gsi.go.jp/xyz/pale/{z}/{x}/{y}.png',\n",
        "  attr='&copy; <a href=\"https://maps.gsi.go.jp/development/ichiran.html\">地理院タイル</a>',\n",
        "  name='淡色地図',\n",
        "  zoom_start=15\n",
        ")\n",
        "\n",
        "stay_gdf.to_crs(epsg=3857).explore(\n",
        "  m=m,\n",
        "  color = 'red',\n",
        "  style_kwds={'weight': 5}\n",
        ")"
      ]
    },
    {
      "cell_type": "markdown",
      "metadata": {
        "id": "0Ii7xSsfxOJh"
      },
      "source": [
        "速度を計算するため\n",
        "TrajDataFrameをMovingDataFrameのTrajectoryCollectionに変換します．"
      ]
    },
    {
      "cell_type": "code",
      "execution_count": null,
      "metadata": {
        "id": "pwPZcMBH4q1R"
      },
      "outputs": [],
      "source": [
        "ftdf_gdf = ftdf.to_geodataframe()\n",
        "collection = mpd.TrajectoryCollection(ftdf_gdf, 'uid', t='datetime')"
      ]
    },
    {
      "cell_type": "markdown",
      "metadata": {
        "id": "hoNIR4lg1oqO"
      },
      "source": [
        "TrajectoryCollectionに対して速度を求めます．"
      ]
    },
    {
      "cell_type": "code",
      "execution_count": null,
      "metadata": {
        "id": "dZERzdlJ4q1R"
      },
      "outputs": [],
      "source": [
        "collection.add_speed(overwrite=True, units=(\"km\", \"h\"))"
      ]
    },
    {
      "cell_type": "markdown",
      "metadata": {
        "id": "G31vQEiS2yGm"
      },
      "source": [
        "すべてのtrajectoryの速度をプロットすると大事になるから最初の一つだけプロットします．"
      ]
    },
    {
      "cell_type": "code",
      "execution_count": null,
      "metadata": {
        "id": "mkY94oTE4q1R"
      },
      "outputs": [],
      "source": [
        "collection.trajectories[0].plot(column=\"speed\", legend=True)"
      ]
    },
    {
      "cell_type": "markdown",
      "metadata": {
        "id": "jT-Bc2qfDt-d"
      },
      "source": [
        "## 経路のスムージングと集計"
      ]
    },
    {
      "cell_type": "markdown",
      "metadata": {
        "id": "_fjGXFCG4P1O"
      },
      "source": [
        "MovingPandasではデータの間引きではなく関数で補間することによる経路のスムージングができます．\n",
        "試しに経路の一つにパラメーターを変えてスムージングを行い，\n",
        "結果を比較してみます．"
      ]
    },
    {
      "cell_type": "code",
      "execution_count": null,
      "metadata": {
        "id": "tug1gIk54q1R"
      },
      "outputs": [],
      "source": [
        "# デフォルトの値でスムージングしてみる\n",
        "smooth_01 = mpd.KalmanSmootherCV(collection.trajectories[12]).smooth(\n",
        "    process_noise_std=0.5,\n",
        "    measurement_noise_std=1\n",
        ")\n",
        "# スムージングしてみる\n",
        "smooth_02 = mpd.KalmanSmootherCV(collection.trajectories[12]).smooth(\n",
        "    process_noise_std=10,\n",
        "    measurement_noise_std=1\n",
        ")\n",
        "# スムージングしてみる\n",
        "smooth_03 = mpd.KalmanSmootherCV(collection.trajectories[12]).smooth(\n",
        "    process_noise_std=0.5,\n",
        "    measurement_noise_std=50\n",
        ")\n",
        "# スムージングしてみる\n",
        "smooth_04 = mpd.KalmanSmootherCV(collection.trajectories[12]).smooth(\n",
        "    process_noise_std=10,\n",
        "    measurement_noise_std=50\n",
        ")"
      ]
    },
    {
      "cell_type": "markdown",
      "metadata": {
        "id": "pLL-8O_EKm4b"
      },
      "source": [
        "スムージング前のデータとスムージング後のデータの速度をプロットして比較します．"
      ]
    },
    {
      "cell_type": "code",
      "execution_count": null,
      "metadata": {
        "id": "U07DxGOiIGAW"
      },
      "outputs": [],
      "source": [
        "mapcenter = [32.92, 131.1]\n",
        "\n",
        "m = folium.Map(\n",
        "    location=mapcenter,\n",
        "    zoom_start=11\n",
        ")\n",
        "\n",
        "# 地理院タイル（淡色地図）を追加\n",
        "# '全国最新写真（シームレス）'も面白いかも\n",
        "# https://cyberjapandata.gsi.go.jp/xyz/seamlessphoto/{z}/{x}/{y}.jpg\n",
        "tile_layer = folium.TileLayer(\n",
        "    tiles='https://cyberjapandata.gsi.go.jp/xyz/pale/{z}/{x}/{y}.png',\n",
        "    attr='&copy; <a href=\"https://maps.gsi.go.jp/development/ichiran.html\">\\\n",
        "        地理院タイル</a>',\n",
        "    name='地理院地図'\n",
        ")\n",
        "tile_layer.add_to(m)\n",
        "\n",
        "# カスタムCSSを追加してタイルレイヤーをモノクロ化\n",
        "m.get_root().html.add_child(folium.Element(\"\"\"\n",
        "<style>\n",
        "    .leaflet-tile {\n",
        "        filter: grayscale(100%);\n",
        "    }\n",
        "</style>\n",
        "\"\"\"))\n",
        "collection.trajectories[12].explore(\n",
        "    m=m,\n",
        "    cmap='rainbow',\n",
        "    style_kwds={'weight': 5, 'opacity': 0.7},\n",
        "    column='speed',\n",
        "    name='original'\n",
        ")\n",
        "\n",
        "smooth_01.explore(\n",
        "    m=m,\n",
        "    cmap='rainbow',\n",
        "    style_kwds={'weight': 5, 'opacity': 0.7},\n",
        "    column='speed',\n",
        "    name='sm01, pn=0.5, mn=1',\n",
        "    legend=False\n",
        ")\n",
        "\n",
        "smooth_02.explore(\n",
        "    m=m,\n",
        "    cmap='rainbow',\n",
        "    style_kwds={'weight': 5, 'opacity': 0.7},\n",
        "    column='speed',\n",
        "    name='sm02, pn=10, mn=1',\n",
        "    legend=False\n",
        ")\n",
        "\n",
        "smooth_03.explore(\n",
        "    m=m,\n",
        "    cmap='rainbow',\n",
        "    style_kwds={'weight': 5, 'opacity': 0.7},\n",
        "    column='speed',\n",
        "    name='sm03, pn=0.5, mn=50',\n",
        "    legend=False\n",
        ")\n",
        "\n",
        "smooth_04.explore(\n",
        "    m=m,\n",
        "    cmap='rainbow',\n",
        "    style_kwds={'weight': 5, 'opacity': 0.7},\n",
        "    column='speed',\n",
        "    name='sm04, pn=10, mn=50',\n",
        "    legend=False\n",
        ")\n",
        "\n",
        "folium.LayerControl().add_to(m)\n",
        "display(m)"
      ]
    },
    {
      "cell_type": "markdown",
      "metadata": {
        "id": "bMzfQvLUsSQE"
      },
      "source": [
        "データ全体をスムージングすると18分くらいかかるため，ここでは全体へのスムージングは行わない．行う場合は以下を実行する．"
      ]
    },
    {
      "cell_type": "markdown",
      "metadata": {
        "id": "7esFi40rsh8W"
      },
      "source": [
        "```\n",
        "# process_noise=0.5，measurement_noise=50でスムージングする\n",
        "smooth = mpd.KalmanSmootherCV(generalized_gdf).smooth(\n",
        "    process_noise_std=0.5,\n",
        "    measurement_noise_std=50\n",
        ")\n",
        "```"
      ]
    },
    {
      "cell_type": "markdown",
      "metadata": {
        "id": "Vsl7xwzAgKTD"
      },
      "source": [
        "スムージングの代わりにgeneralizerでデータを間引いてみます．\n",
        "MinTimeDeltaGeneralizerを使うと時間で間引くことができます．\n",
        "ここでは30秒間隔で間引きます．"
      ]
    },
    {
      "cell_type": "code",
      "execution_count": null,
      "metadata": {
        "id": "Y8NxQko7mmF1"
      },
      "outputs": [],
      "source": [
        "generalized = mpd.MinTimeDeltaGeneralizer(collection).generalize(tolerance=timedelta(seconds=30))"
      ]
    },
    {
      "cell_type": "markdown",
      "metadata": {
        "id": "EDRlapXCs1yM"
      },
      "source": [
        "時間で間引いた経路の一部を地図表示してみる．"
      ]
    },
    {
      "cell_type": "code",
      "execution_count": null,
      "metadata": {
        "id": "B3jDDuBmql6W"
      },
      "outputs": [],
      "source": [
        "mapcenter = [32.92, 131.1]\n",
        "\n",
        "m = folium.Map(\n",
        "    location=mapcenter,\n",
        "    zoom_start=11\n",
        ")\n",
        "\n",
        "# 地理院タイル（淡色地図）を追加\n",
        "# '全国最新写真（シームレス）'も面白いかも\n",
        "# https://cyberjapandata.gsi.go.jp/xyz/seamlessphoto/{z}/{x}/{y}.jpg\n",
        "tile_layer = folium.TileLayer(\n",
        "    tiles='https://cyberjapandata.gsi.go.jp/xyz/pale/{z}/{x}/{y}.png',\n",
        "    attr='&copy; <a href=\"https://maps.gsi.go.jp/development/ichiran.html\">\\\n",
        "        地理院タイル</a>',\n",
        "    name='地理院地図'\n",
        ")\n",
        "tile_layer.add_to(m)\n",
        "\n",
        "# カスタムCSSを追加してタイルレイヤーをモノクロ化\n",
        "m.get_root().html.add_child(folium.Element(\"\"\"\n",
        "<style>\n",
        "    .leaflet-tile {\n",
        "        filter: grayscale(100%);\n",
        "    }\n",
        "</style>\n",
        "\"\"\"))\n",
        "\n",
        "collection.trajectories[12].explore(\n",
        "    m=m,\n",
        "    cmap='rainbow',\n",
        "    style_kwds={'weight': 5, 'opacity': 0.7},\n",
        "    column='speed',\n",
        "    name='original'\n",
        ")\n",
        "\n",
        "generalized.trajectories[12].explore(\n",
        "    m=m,\n",
        "    cmap='rainbow',\n",
        "    style_kwds={'weight': 5, 'opacity': 0.7},\n",
        "    column='speed',\n",
        "    name='generalized',\n",
        "    legend=False\n",
        ")\n",
        "\n",
        "folium.LayerControl().add_to(m)\n",
        "display(m)"
      ]
    },
    {
      "cell_type": "markdown",
      "metadata": {
        "id": "S-cvpLqPs-o6"
      },
      "source": [
        "時間で間引いたデータをスムージングしてみましょう．"
      ]
    },
    {
      "cell_type": "code",
      "execution_count": null,
      "metadata": {
        "id": "XXtAWfhPRrfl"
      },
      "outputs": [],
      "source": [
        "# process_noise=0.5，measurement_noise=50でスムージングする\n",
        "generalized_smooth = mpd.KalmanSmootherCV(generalized).smooth(\n",
        "    process_noise_std=0.5,\n",
        "    measurement_noise_std=50\n",
        ")"
      ]
    },
    {
      "cell_type": "markdown",
      "metadata": {
        "id": "Pd4xi1ROtNRV"
      },
      "source": [
        "間引いてスムージングした経路をマップ表示してみます．"
      ]
    },
    {
      "cell_type": "code",
      "execution_count": null,
      "metadata": {
        "id": "jWQL9PMFtLHk"
      },
      "outputs": [],
      "source": [
        "mapcenter = [32.92, 131.1]\n",
        "\n",
        "m = folium.Map(\n",
        "    location=mapcenter,\n",
        "    zoom_start=11\n",
        ")\n",
        "\n",
        "# 地理院タイル（淡色地図）を追加\n",
        "# '全国最新写真（シームレス）'も面白いかも\n",
        "# https://cyberjapandata.gsi.go.jp/xyz/seamlessphoto/{z}/{x}/{y}.jpg\n",
        "tile_layer = folium.TileLayer(\n",
        "    tiles='https://cyberjapandata.gsi.go.jp/xyz/pale/{z}/{x}/{y}.png',\n",
        "    attr='&copy; <a href=\"https://maps.gsi.go.jp/development/ichiran.html\">\\\n",
        "        地理院タイル</a>',\n",
        "    name='地理院地図'\n",
        ")\n",
        "tile_layer.add_to(m)\n",
        "\n",
        "# カスタムCSSを追加してタイルレイヤーをモノクロ化\n",
        "m.get_root().html.add_child(folium.Element(\"\"\"\n",
        "<style>\n",
        "    .leaflet-tile {\n",
        "        filter: grayscale(100%);\n",
        "    }\n",
        "</style>\n",
        "\"\"\"))\n",
        "\n",
        "collection.trajectories[12].explore(\n",
        "    m=m,\n",
        "    cmap='rainbow',\n",
        "    style_kwds={'weight': 5, 'opacity': 0.7},\n",
        "    column='speed',\n",
        "    name='original'\n",
        ")\n",
        "\n",
        "generalized.trajectories[12].explore(\n",
        "    m=m,\n",
        "    cmap='rainbow',\n",
        "    style_kwds={'weight': 5, 'opacity': 0.7},\n",
        "    column='speed',\n",
        "    name='generalized',\n",
        "    legend=False\n",
        ")\n",
        "\n",
        "generalized_smooth.trajectories[12].explore(\n",
        "    m=m,\n",
        "    cmap='rainbow',\n",
        "    style_kwds={'weight': 5, 'opacity': 0.7},\n",
        "    column='speed',\n",
        "    name='smooth',\n",
        "    legend=False\n",
        ")\n",
        "\n",
        "folium.LayerControl().add_to(m)\n",
        "display(m)"
      ]
    },
    {
      "cell_type": "markdown",
      "metadata": {
        "id": "iu2mvpht4q1S"
      },
      "source": [
        "## 計算結果を出力する"
      ]
    },
    {
      "cell_type": "markdown",
      "metadata": {
        "id": "ntTkYIlm0l70"
      },
      "source": [
        "generalizeした経路とsmoothした経路をGeoDataFrameに変換し，\n",
        "滞留ポイントと合わせて保存します．\n",
        "これらのデータは一つのGeoPackageに別レイヤーとして保存します．"
      ]
    },
    {
      "cell_type": "code",
      "execution_count": null,
      "metadata": {
        "id": "GLDC8z-hgRFY"
      },
      "outputs": [],
      "source": [
        "# GeoDataFrameに変換する\n",
        "generalized_gdf = generalized.to_line_gdf()\n",
        "generalized_smooth_gdf = generalized_smooth.to_line_gdf()\n",
        "\n",
        "# GeoDataFrameをGeoPackageとして保存する\n",
        "generalized_gdf.to_file(base_dir + 'MAS_analysis.gpkg', layer='generalized', driver='GPKG')\n",
        "generalized_smooth_gdf.to_file(base_dir + 'MAS_analysis.gpkg', layer='generalized_smooth', driver='GPKG')\n",
        "stay_gdf.to_file(base_dir + 'MAS_analysis.gpkg', layer='stay', driver='GPKG')"
      ]
    }
  ],
  "metadata": {
    "colab": {
      "provenance": [],
      "toc_visible": true,
      "include_colab_link": true
    },
    "kernelspec": {
      "display_name": "gisday2024",
      "language": "python",
      "name": "python3"
    },
    "language_info": {
      "codemirror_mode": {
        "name": "ipython",
        "version": 3
      },
      "file_extension": ".py",
      "mimetype": "text/x-python",
      "name": "python",
      "nbconvert_exporter": "python",
      "pygments_lexer": "ipython3",
      "version": "3.13.1"
    }
  },
  "nbformat": 4,
  "nbformat_minor": 0
}